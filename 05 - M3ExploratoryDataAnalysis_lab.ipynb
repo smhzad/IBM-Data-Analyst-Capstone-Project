{
  "cells": [
    {
      "cell_type": "markdown",
      "metadata": {
        "id": "J3YvLLxcAN_O"
      },
      "source": [
        "<p style=\"text-align:center\">\n",
        "    <a href=\"https://skills.network/?utm_medium=Exinfluencer&utm_source=Exinfluencer&utm_content=000026UJ&utm_term=10006555&utm_id=NA-SkillsNetwork-Channel-SkillsNetworkCoursesIBMDA0321ENSkillsNetwork21426264-2022-01-01\" target=\"_blank\">\n",
        "    <img src=\"https://cf-courses-data.s3.us.cloud-object-storage.appdomain.cloud/assets/logos/SN_web_lightmode.png\" width=\"200\" alt=\"Skills Network Logo\"  />\n",
        "    </a>\n",
        "</p>\n"
      ]
    },
    {
      "cell_type": "markdown",
      "metadata": {
        "id": "njhlWXanAN_d"
      },
      "source": [
        "# **Exploratory Data Analysis Lab**\n"
      ]
    },
    {
      "cell_type": "markdown",
      "metadata": {
        "id": "DXpDTD-IAN_e"
      },
      "source": [
        "Estimated time needed: **30** minutes\n"
      ]
    },
    {
      "cell_type": "markdown",
      "metadata": {
        "id": "TBhe0mtjAN_e"
      },
      "source": [
        "In this module you get to work with the cleaned dataset from the previous module.\n",
        "\n",
        "In this assignment you will perform the task of exploratory data analysis.\n",
        "You will find out the distribution of data, presence of outliers and also determine the correlation between different columns in the dataset.\n"
      ]
    },
    {
      "cell_type": "markdown",
      "metadata": {
        "id": "ELC89ItaAN_f"
      },
      "source": [
        "## Objectives\n"
      ]
    },
    {
      "cell_type": "markdown",
      "metadata": {
        "id": "aAjjnv1UAN_f"
      },
      "source": [
        "In this lab you will perform the following:\n"
      ]
    },
    {
      "cell_type": "markdown",
      "metadata": {
        "id": "kRqqieX3AN_g"
      },
      "source": [
        "*   Identify the distribution of data in the dataset.\n",
        "\n",
        "*   Identify outliers in the dataset.\n",
        "\n",
        "*   Remove outliers from the dataset.\n",
        "\n",
        "*   Identify correlation between features in the dataset.\n"
      ]
    },
    {
      "cell_type": "markdown",
      "metadata": {
        "id": "Oj0T0CGRAN_h"
      },
      "source": [
        "***\n"
      ]
    },
    {
      "cell_type": "markdown",
      "metadata": {
        "id": "a9ttNkxsAN_h"
      },
      "source": [
        "## Hands on Lab\n"
      ]
    },
    {
      "cell_type": "markdown",
      "metadata": {
        "id": "44jCP5hjAN_i"
      },
      "source": [
        "Import the pandas module.\n"
      ]
    },
    {
      "cell_type": "code",
      "execution_count": 1,
      "metadata": {
        "id": "2HVwQrE1AN_j"
      },
      "outputs": [],
      "source": [
        "import pandas as pd\n",
        "import numpy as np\n",
        "import matplotlib.pyplot as plt\n",
        "import seaborn as sns\n",
        "from scipy.stats import norm\n",
        "%matplotlib inline"
      ]
    },
    {
      "cell_type": "markdown",
      "metadata": {
        "id": "Cp6ZJzuJAN_k"
      },
      "source": [
        "Load the dataset into a dataframe.\n"
      ]
    },
    {
      "cell_type": "code",
      "execution_count": 2,
      "metadata": {
        "id": "x40doG9tAN_l"
      },
      "outputs": [],
      "source": [
        "df = pd.read_csv(\"https://cf-courses-data.s3.us.cloud-object-storage.appdomain.cloud/IBM-DA0321EN-SkillsNetwork/LargeData/m2_survey_data.csv\")"
      ]
    },
    {
      "cell_type": "markdown",
      "metadata": {
        "id": "brQl51dlAN_l"
      },
      "source": [
        "## Distribution\n"
      ]
    },
    {
      "cell_type": "markdown",
      "metadata": {
        "id": "JGwOuZo3AN_m"
      },
      "source": [
        "### Determine how the data is distributed\n"
      ]
    },
    {
      "cell_type": "markdown",
      "metadata": {
        "id": "tkp31VKiAN_m"
      },
      "source": [
        "The column `ConvertedComp` contains Salary converted to annual USD salaries using the exchange rate on 2019-02-01.\n",
        "\n",
        "This assumes 12 working months and 50 working weeks.\n"
      ]
    },
    {
      "cell_type": "markdown",
      "metadata": {
        "id": "WoVpLGHrAN_m"
      },
      "source": [
        "Plot the distribution curve for the column `ConvertedComp`.\n"
      ]
    },
    {
      "cell_type": "code",
      "execution_count": 3,
      "metadata": {
        "colab": {
          "base_uri": "https://localhost:8080/",
          "height": 400
        },
        "id": "_WYcthzaAN_n",
        "outputId": "695f6bb0-a6a8-4ad5-b468-b2709e1c74ca"
      },
      "outputs": [
        {
          "output_type": "stream",
          "name": "stderr",
          "text": [
            "/usr/local/lib/python3.8/dist-packages/seaborn/distributions.py:2619: FutureWarning: `distplot` is a deprecated function and will be removed in a future version. Please adapt your code to use either `displot` (a figure-level function with similar flexibility) or `kdeplot` (an axes-level function for kernel density plots).\n",
            "  warnings.warn(msg, FutureWarning)\n"
          ]
        },
        {
          "output_type": "display_data",
          "data": {
            "text/plain": [
              "<Figure size 720x360 with 1 Axes>"
            ],
            "image/png": "[encoded data removed]"
          },
          "metadata": {
            "needs_background": "light"
          }
        }
      ],
      "source": [
        "# your code goes here\n",
        "plt.figure(figsize=(10,5))\n",
        "sns.distplot(a=df[\"ConvertedComp\"],bins=20,hist=False)\n",
        "plt.show()"
      ]
    },
    {
      "cell_type": "markdown",
      "metadata": {
        "id": "3Kv8SbqXAN_n"
      },
      "source": [
        "Plot the histogram for the column `ConvertedComp`.\n"
      ]
    },
    {
      "cell_type": "code",
      "execution_count": 4,
      "metadata": {
        "colab": {
          "base_uri": "https://localhost:8080/",
          "height": 389
        },
        "id": "0D6Sm0VVAN_n",
        "outputId": "f99c29b2-027f-4887-ce4b-30fa434735b5"
      },
      "outputs": [
        {
          "output_type": "stream",
          "name": "stderr",
          "text": [
            "/usr/local/lib/python3.8/dist-packages/seaborn/distributions.py:2619: FutureWarning: `distplot` is a deprecated function and will be removed in a future version. Please adapt your code to use either `displot` (a figure-level function with similar flexibility) or `histplot` (an axes-level function for histograms).\n",
            "  warnings.warn(msg, FutureWarning)\n"
          ]
        },
        {
          "output_type": "display_data",
          "data": {
            "text/plain": [
              "<Figure size 720x360 with 1 Axes>"
            ],
            "image/png": "[encoded data removed]"
          },
          "metadata": {
            "needs_background": "light"
          }
        }
      ],
      "source": [
        "# your code goes here\n",
        "plt.figure(figsize=(10,5))\n",
        "sns.distplot(a=df[\"ConvertedComp\"],bins=20,kde=False)\n",
        "plt.show()"
      ]
    },
    {
      "cell_type": "markdown",
      "metadata": {
        "id": "XHo5xFPNAN_o"
      },
      "source": [
        "What is the median of the column `ConvertedComp`?\n"
      ]
    },
    {
      "cell_type": "code",
      "execution_count": 5,
      "metadata": {
        "colab": {
          "base_uri": "https://localhost:8080/"
        },
        "id": "IFelzFEgAN_o",
        "outputId": "ac610775-355b-45a9-9f0b-a6c29ce9aaf6"
      },
      "outputs": [
        {
          "output_type": "execute_result",
          "data": {
            "text/plain": [
              "57745.0"
            ]
          },
          "metadata": {},
          "execution_count": 5
        }
      ],
      "source": [
        "# your code goes here\n",
        "df[\"ConvertedComp\"].median()"
      ]
    },
    {
      "cell_type": "markdown",
      "metadata": {
        "id": "S09fc4LuAN_o"
      },
      "source": [
        "How many responders identified themselves only as a **Man**?\n"
      ]
    },
    {
      "cell_type": "code",
      "execution_count": 6,
      "metadata": {
        "colab": {
          "base_uri": "https://localhost:8080/"
        },
        "id": "VvG59CA_AN_p",
        "outputId": "4fad314b-3f9c-4c86-c054-f32572cc551c"
      },
      "outputs": [
        {
          "output_type": "execute_result",
          "data": {
            "text/plain": [
              "Man                                                            10480\n",
              "Woman                                                            731\n",
              "Non-binary, genderqueer, or gender non-conforming                 63\n",
              "Man;Non-binary, genderqueer, or gender non-conforming             26\n",
              "Woman;Non-binary, genderqueer, or gender non-conforming           14\n",
              "Woman;Man                                                          9\n",
              "Woman;Man;Non-binary, genderqueer, or gender non-conforming        2\n",
              "Name: Gender, dtype: int64"
            ]
          },
          "metadata": {},
          "execution_count": 6
        }
      ],
      "source": [
        "# your code goes here\n",
        "df[\"Gender\"].value_counts()"
      ]
    },
    {
      "cell_type": "markdown",
      "metadata": {
        "id": "iaVRZ1TwAN_p"
      },
      "source": [
        "Find out the  median ConvertedComp of responders identified themselves only as a **Woman**?\n"
      ]
    },
    {
      "cell_type": "code",
      "execution_count": 7,
      "metadata": {
        "colab": {
          "base_uri": "https://localhost:8080/"
        },
        "id": "jpuQPvyyAN_p",
        "outputId": "56afa557-0c52-4fa3-e734-6856734c1054"
      },
      "outputs": [
        {
          "output_type": "execute_result",
          "data": {
            "text/plain": [
              "57708.0"
            ]
          },
          "metadata": {},
          "execution_count": 7
        }
      ],
      "source": [
        "# your code goes here\n",
        "condition = df[\"Gender\"] == \"Woman\"\n",
        "woman = df[condition]\n",
        "woman[\"ConvertedComp\"].median()"
      ]
    },
    {
      "cell_type": "markdown",
      "metadata": {
        "id": "VbRkcn-RAN_q"
      },
      "source": [
        "Give the five number summary for the column `Age`?\n"
      ]
    },
    {
      "cell_type": "markdown",
      "metadata": {
        "id": "DvCI3NB3AN_q"
      },
      "source": [
        "**Double click here for hint**.\n",
        "\n",
        "<!--\n",
        "min,q1,median,q3,max of a column are its five number summary.\n",
        "-->\n"
      ]
    },
    {
      "cell_type": "code",
      "source": [
        "df['Age'].median()"
      ],
      "metadata": {
        "colab": {
          "base_uri": "https://localhost:8080/"
        },
        "id": "jjBwVncxRwGN",
        "outputId": "2a2142b2-2820-4734-f193-9b49918d07b4"
      },
      "execution_count": 28,
      "outputs": [
        {
          "output_type": "execute_result",
          "data": {
            "text/plain": [
              "29.0"
            ]
          },
          "metadata": {},
          "execution_count": 28
        }
      ]
    },
    {
      "cell_type": "code",
      "execution_count": 8,
      "metadata": {
        "colab": {
          "base_uri": "https://localhost:8080/"
        },
        "id": "WZCNwq_WAN_q",
        "outputId": "653c315e-4762-4005-fdde-f3f889723129"
      },
      "outputs": [
        {
          "output_type": "execute_result",
          "data": {
            "text/plain": [
              "count    11111.000000\n",
              "mean        30.778895\n",
              "std          7.393686\n",
              "min         16.000000\n",
              "25%         25.000000\n",
              "50%         29.000000\n",
              "75%         35.000000\n",
              "max         99.000000\n",
              "Name: Age, dtype: float64"
            ]
          },
          "metadata": {},
          "execution_count": 8
        }
      ],
      "source": [
        "# your code goes here\n",
        "df['Age'].describe()"
      ]
    },
    {
      "cell_type": "code",
      "source": [
        "plt.figure(figsize=(15,3))\n",
        "sns.boxplot(x=df['Age'], data=df)\n",
        "plt.show()"
      ],
      "metadata": {
        "colab": {
          "base_uri": "https://localhost:8080/",
          "height": 225
        },
        "id": "RGYuws2tSzfk",
        "outputId": "36d385ce-68c7-48a2-823b-c71118d9a987"
      },
      "execution_count": 31,
      "outputs": [
        {
          "output_type": "display_data",
          "data": {
            "text/plain": [
              "<Figure size 1080x216 with 1 Axes>"
            ],
            "image/png": "[encoded data removed]"
          },
          "metadata": {
            "needs_background": "light"
          }
        }
      ]
    },
    {
      "cell_type": "code",
      "source": [
        "Q1_age=df[\"Age\"].quantile(0.25)\n",
        "Q1_age\n",
        "condition_age = (df[\"Age\"] < Q1_age) & (df[\"Age\"].notna())\n",
        "condition_age.sum()"
      ],
      "metadata": {
        "colab": {
          "base_uri": "https://localhost:8080/"
        },
        "id": "Vll9DUN5TKK0",
        "outputId": "6613b348-9c11-4192-8da8-ec71afcea9f2"
      },
      "execution_count": 38,
      "outputs": [
        {
          "output_type": "execute_result",
          "data": {
            "text/plain": [
              "2096"
            ]
          },
          "metadata": {},
          "execution_count": 38
        }
      ]
    },
    {
      "cell_type": "markdown",
      "metadata": {
        "id": "LTTWVrp4AN_q"
      },
      "source": [
        "Plot a histogram of the column `Age`.\n"
      ]
    },
    {
      "cell_type": "code",
      "execution_count": 9,
      "metadata": {
        "colab": {
          "base_uri": "https://localhost:8080/",
          "height": 371
        },
        "id": "V39I9yMtAN_r",
        "outputId": "7f02681a-561a-4dda-a963-4a998ccc299b"
      },
      "outputs": [
        {
          "output_type": "execute_result",
          "data": {
            "text/plain": [
              "array([[<matplotlib.axes._subplots.AxesSubplot object at 0x7f45fed25310>]],\n",
              "      dtype=object)"
            ]
          },
          "metadata": {},
          "execution_count": 9
        },
        {
          "output_type": "display_data",
          "data": {
            "text/plain": [
              "<Figure size 720x360 with 1 Axes>"
            ],
            "image/png": "[encoded data removed]"
          },
          "metadata": {
            "needs_background": "light"
          }
        }
      ],
      "source": [
        "# your code goes here\n",
        "df.hist(column='Age', bins=range(0,100,8), figsize=(10,5), color='#86bf91', zorder=1, rwidth=0.9)"
      ]
    },
    {
      "cell_type": "markdown",
      "metadata": {
        "id": "9ipOynwpAN_r"
      },
      "source": [
        "## Outliers\n"
      ]
    },
    {
      "cell_type": "markdown",
      "metadata": {
        "id": "bhORXPijAN_r"
      },
      "source": [
        "### Finding outliers\n"
      ]
    },
    {
      "cell_type": "markdown",
      "metadata": {
        "id": "KLTwzxfMAN_r"
      },
      "source": [
        "Find out if outliers exist in the column `ConvertedComp` using a box plot?\n"
      ]
    },
    {
      "cell_type": "code",
      "execution_count": 11,
      "metadata": {
        "colab": {
          "base_uri": "https://localhost:8080/",
          "height": 225
        },
        "id": "R9vkWp_KAN_s",
        "outputId": "f9980363-f539-4750-87fb-30c42e89c920"
      },
      "outputs": [
        {
          "output_type": "display_data",
          "data": {
            "text/plain": [
              "<Figure size 1080x216 with 1 Axes>"
            ],
            "image/png": "[encoded data removed]"
          },
          "metadata": {
            "needs_background": "light"
          }
        }
      ],
      "source": [
        "# your code goes here\n",
        "plt.figure(figsize=(15,3))\n",
        "sns.boxplot(x=df['ConvertedComp'], data=df)\n",
        "plt.show()"
      ]
    },
    {
      "cell_type": "markdown",
      "metadata": {
        "id": "yqahBM_IAN_s"
      },
      "source": [
        "Find out the Inter Quartile Range for the column `ConvertedComp`.\n"
      ]
    },
    {
      "cell_type": "code",
      "execution_count": 12,
      "metadata": {
        "colab": {
          "base_uri": "https://localhost:8080/"
        },
        "id": "Oue8LCzUAN_s",
        "outputId": "00c5581a-4317-450d-9366-e8f0fcfa25cb"
      },
      "outputs": [
        {
          "output_type": "execute_result",
          "data": {
            "text/plain": [
              "count    1.058200e+04\n",
              "mean     1.315967e+05\n",
              "std      2.947865e+05\n",
              "min      0.000000e+00\n",
              "25%      2.686800e+04\n",
              "50%      5.774500e+04\n",
              "75%      1.000000e+05\n",
              "max      2.000000e+06\n",
              "Name: ConvertedComp, dtype: float64"
            ]
          },
          "metadata": {},
          "execution_count": 12
        }
      ],
      "source": [
        "# your code goes here\n",
        "df[\"ConvertedComp\"].describe()"
      ]
    },
    {
      "cell_type": "code",
      "source": [
        "Q0 = df[\"ConvertedComp\"].quantile(0.0)\n",
        "Q1 = df[\"ConvertedComp\"].quantile(0.25)\n",
        "Q2 = df[\"ConvertedComp\"].quantile(0.5)\n",
        "Q3 = df[\"ConvertedComp\"].quantile(0.75)\n",
        "Q4 = df[\"ConvertedComp\"].quantile(1.0)\n",
        "print ('Q0: ', Q0)\n",
        "print ('Q1: ', Q1)\n",
        "print ('Q2: ', Q2)\n",
        "print ('Q3: ', Q3)\n",
        "print ('Q4: ', Q4)"
      ],
      "metadata": {
        "colab": {
          "base_uri": "https://localhost:8080/"
        },
        "id": "S3ZEBeHhEW8Y",
        "outputId": "278c93be-6488-4871-ffc0-53ede39beb94"
      },
      "execution_count": 13,
      "outputs": [
        {
          "output_type": "stream",
          "name": "stdout",
          "text": [
            "Q0:  0.0\n",
            "Q1:  26868.0\n",
            "Q2:  57745.0\n",
            "Q3:  100000.0\n",
            "Q4:  2000000.0\n"
          ]
        }
      ]
    },
    {
      "cell_type": "code",
      "source": [
        "IQR = Q3 - Q1\n",
        "IQR"
      ],
      "metadata": {
        "colab": {
          "base_uri": "https://localhost:8080/"
        },
        "id": "c-DPQvJQFbvG",
        "outputId": "f0ec5602-3980-4a7a-d7f3-a689e2a2b563"
      },
      "execution_count": 41,
      "outputs": [
        {
          "output_type": "execute_result",
          "data": {
            "text/plain": [
              "73132.0"
            ]
          },
          "metadata": {},
          "execution_count": 41
        }
      ]
    },
    {
      "cell_type": "markdown",
      "metadata": {
        "id": "Kk-Z_xUMAN_t"
      },
      "source": [
        "Find out the upper and lower bounds.\n"
      ]
    },
    {
      "cell_type": "code",
      "execution_count": 42,
      "metadata": {
        "colab": {
          "base_uri": "https://localhost:8080/"
        },
        "id": "Jn2Eb2V9AN_t",
        "outputId": "2ae65856-6cf9-46d5-ef95-c05b78306a3b"
      },
      "outputs": [
        {
          "output_type": "stream",
          "name": "stdout",
          "text": [
            "Upper Bounds : 209698.0\n",
            "Lower Bounds : -82830.0\n"
          ]
        }
      ],
      "source": [
        "# your code goes here\n",
        "upper_bounds = Q3 + 1.5 * IQR\n",
        "print('Upper Bounds :', upper_bounds)\n",
        "lower_bounds = Q1 - 1.5*IQR\n",
        "print('Lower Bounds :', lower_bounds)"
      ]
    },
    {
      "cell_type": "markdown",
      "metadata": {
        "id": "XR1K0h1aAN_t"
      },
      "source": [
        "Identify how many outliers are there in the `ConvertedComp` column.\n"
      ]
    },
    {
      "cell_type": "code",
      "source": [
        "outlier =[]\n",
        "for x in df['ConvertedComp']:\n",
        "  if ((x > upper_bounds) or (x < lower_bounds)):\n",
        "    outlier.append(x)\n",
        "print(' outlier in the ConvertedComp column is', len(outlier))"
      ],
      "metadata": {
        "colab": {
          "base_uri": "https://localhost:8080/"
        },
        "id": "JY-Yqa_NVj_q",
        "outputId": "d5fe4580-ce50-47ce-ed83-7c6188d319c0"
      },
      "execution_count": 43,
      "outputs": [
        {
          "output_type": "stream",
          "name": "stdout",
          "text": [
            " outlier in the ConvertedComp column is 879\n"
          ]
        }
      ]
    },
    {
      "cell_type": "markdown",
      "metadata": {
        "id": "kd8rvSyjAN_u"
      },
      "source": [
        "Create a new dataframe by removing the outliers from the `ConvertedComp` column.\n"
      ]
    },
    {
      "cell_type": "code",
      "source": [
        "df_removed_outlier = df['ConvertedComp'][~((df['ConvertedComp'] < lower_bounds) | \n",
        "                                           (df['ConvertedComp'] > upper_bounds))]\n",
        "\n",
        "df_removed_outlier.describe()"
      ],
      "metadata": {
        "colab": {
          "base_uri": "https://localhost:8080/"
        },
        "id": "NVV2ToG4VpBQ",
        "outputId": "22083452-5ddd-4b27-f0c2-66c1060e36ad"
      },
      "execution_count": 45,
      "outputs": [
        {
          "output_type": "execute_result",
          "data": {
            "text/plain": [
              "count      9703.000000\n",
              "mean      59883.208389\n",
              "std       43394.336755\n",
              "min           0.000000\n",
              "25%       24060.000000\n",
              "50%       52704.000000\n",
              "75%       85574.500000\n",
              "max      209356.000000\n",
              "Name: ConvertedComp, dtype: float64"
            ]
          },
          "metadata": {},
          "execution_count": 45
        }
      ]
    },
    {
      "cell_type": "code",
      "source": [
        "df_removed_outlier.median()"
      ],
      "metadata": {
        "colab": {
          "base_uri": "https://localhost:8080/"
        },
        "id": "Xj5POnmRSHmO",
        "outputId": "82b1d451-2469-4ce3-d9ed-d301fa8c563e"
      },
      "execution_count": 47,
      "outputs": [
        {
          "output_type": "execute_result",
          "data": {
            "text/plain": [
              "52704.0"
            ]
          },
          "metadata": {},
          "execution_count": 47
        }
      ]
    },
    {
      "cell_type": "code",
      "source": [
        "df_removed_outlier.mean()"
      ],
      "metadata": {
        "colab": {
          "base_uri": "https://localhost:8080/"
        },
        "id": "_5Caz0-CUL4a",
        "outputId": "bdca5416-622d-4716-d44a-789cfe7f3ef3"
      },
      "execution_count": 48,
      "outputs": [
        {
          "output_type": "execute_result",
          "data": {
            "text/plain": [
              "59883.20838915799"
            ]
          },
          "metadata": {},
          "execution_count": 48
        }
      ]
    },
    {
      "cell_type": "code",
      "source": [
        "df[\"ConvertedComp\"].median()"
      ],
      "metadata": {
        "colab": {
          "base_uri": "https://localhost:8080/"
        },
        "id": "TEh8alcQSQp2",
        "outputId": "57ee195b-a0cf-4437-fe42-cbe9a5001712"
      },
      "execution_count": 49,
      "outputs": [
        {
          "output_type": "execute_result",
          "data": {
            "text/plain": [
              "57745.0"
            ]
          },
          "metadata": {},
          "execution_count": 49
        }
      ]
    },
    {
      "cell_type": "markdown",
      "metadata": {
        "id": "X_7PjFaYAN_u"
      },
      "source": [
        "## Correlation\n"
      ]
    },
    {
      "cell_type": "markdown",
      "metadata": {
        "id": "xXMIMGwuAN_u"
      },
      "source": [
        "### Finding correlation\n"
      ]
    },
    {
      "cell_type": "markdown",
      "metadata": {
        "id": "r8z5j1BuAN_v"
      },
      "source": [
        "Find the correlation between `Age` and all other numerical columns.\n"
      ]
    },
    {
      "cell_type": "code",
      "execution_count": 24,
      "metadata": {
        "colab": {
          "base_uri": "https://localhost:8080/",
          "height": 237
        },
        "id": "UMYlb0FfAN_v",
        "outputId": "c5fa3f4b-5d5b-4a84-c4c6-1f542ae6942b"
      },
      "outputs": [
        {
          "output_type": "execute_result",
          "data": {
            "text/plain": [
              "               Respondent  CompTotal  ConvertedComp  WorkWeekHrs  CodeRevHrs  \\\n",
              "Respondent       1.000000  -0.013490       0.002181    -0.015314    0.004621   \n",
              "CompTotal       -0.013490   1.000000       0.001037     0.003510    0.007063   \n",
              "ConvertedComp    0.002181   0.001037       1.000000     0.021143   -0.033865   \n",
              "WorkWeekHrs     -0.015314   0.003510       0.021143     1.000000    0.026517   \n",
              "CodeRevHrs       0.004621   0.007063      -0.033865     0.026517    1.000000   \n",
              "Age              0.004041   0.006970       0.105386     0.036518   -0.020469   \n",
              "\n",
              "                    Age  \n",
              "Respondent     0.004041  \n",
              "CompTotal      0.006970  \n",
              "ConvertedComp  0.105386  \n",
              "WorkWeekHrs    0.036518  \n",
              "CodeRevHrs    -0.020469  \n",
              "Age            1.000000  "
            ],
            "text/html": [
              "\n",
              "  <div id=\"df-3cbef01f-d80a-4ee0-8202-adc0baa642b6\">\n",
              "    <div class=\"colab-df-container\">\n",
              "      <div>\n",
              "<style scoped>\n",
              "    .dataframe tbody tr th:only-of-type {\n",
              "        vertical-align: middle;\n",
              "    }\n",
              "\n",
              "    .dataframe tbody tr th {\n",
              "        vertical-align: top;\n",
              "    }\n",
              "\n",
              "    .dataframe thead th {\n",
              "        text-align: right;\n",
              "    }\n",
              "</style>\n",
              "<table border=\"1\" class=\"dataframe\">\n",
              "  <thead>\n",
              "    <tr style=\"text-align: right;\">\n",
              "      <th></th>\n",
              "      <th>Respondent</th>\n",
              "      <th>CompTotal</th>\n",
              "      <th>ConvertedComp</th>\n",
              "      <th>WorkWeekHrs</th>\n",
              "      <th>CodeRevHrs</th>\n",
              "      <th>Age</th>\n",
              "    </tr>\n",
              "  </thead>\n",
              "  <tbody>\n",
              "    <tr>\n",
              "      <th>Respondent</th>\n",
              "      <td>1.000000</td>\n",
              "      <td>-0.013490</td>\n",
              "      <td>0.002181</td>\n",
              "      <td>-0.015314</td>\n",
              "      <td>0.004621</td>\n",
              "      <td>0.004041</td>\n",
              "    </tr>\n",
              "    <tr>\n",
              "      <th>CompTotal</th>\n",
              "      <td>-0.013490</td>\n",
              "      <td>1.000000</td>\n",
              "      <td>0.001037</td>\n",
              "      <td>0.003510</td>\n",
              "      <td>0.007063</td>\n",
              "      <td>0.006970</td>\n",
              "    </tr>\n",
              "    <tr>\n",
              "      <th>ConvertedComp</th>\n",
              "      <td>0.002181</td>\n",
              "      <td>0.001037</td>\n",
              "      <td>1.000000</td>\n",
              "      <td>0.021143</td>\n",
              "      <td>-0.033865</td>\n",
              "      <td>0.105386</td>\n",
              "    </tr>\n",
              "    <tr>\n",
              "      <th>WorkWeekHrs</th>\n",
              "      <td>-0.015314</td>\n",
              "      <td>0.003510</td>\n",
              "      <td>0.021143</td>\n",
              "      <td>1.000000</td>\n",
              "      <td>0.026517</td>\n",
              "      <td>0.036518</td>\n",
              "    </tr>\n",
              "    <tr>\n",
              "      <th>CodeRevHrs</th>\n",
              "      <td>0.004621</td>\n",
              "      <td>0.007063</td>\n",
              "      <td>-0.033865</td>\n",
              "      <td>0.026517</td>\n",
              "      <td>1.000000</td>\n",
              "      <td>-0.020469</td>\n",
              "    </tr>\n",
              "    <tr>\n",
              "      <th>Age</th>\n",
              "      <td>0.004041</td>\n",
              "      <td>0.006970</td>\n",
              "      <td>0.105386</td>\n",
              "      <td>0.036518</td>\n",
              "      <td>-0.020469</td>\n",
              "      <td>1.000000</td>\n",
              "    </tr>\n",
              "  </tbody>\n",
              "</table>\n",
              "</div>\n",
              "      <button class=\"colab-df-convert\" onclick=\"convertToInteractive('df-3cbef01f-d80a-4ee0-8202-adc0baa642b6')\"\n",
              "              title=\"Convert this dataframe to an interactive table.\"\n",
              "              style=\"display:none;\">\n",
              "        \n",
              "  <svg xmlns=\"http://www.w3.org/2000/svg\" height=\"24px\"viewBox=\"0 0 24 24\"\n",
              "       width=\"24px\">\n",
              "    <path d=\"M0 0h24v24H0V0z\" fill=\"none\"/>\n",
              "    <path d=\"M18.56 5.44l.94 2.06.94-2.06 2.06-.94-2.06-.94-.94-2.06-.94 2.06-2.06.94zm-11 1L8.5 8.5l.94-2.06 2.06-.94-2.06-.94L8.5 2.5l-.94 2.06-2.06.94zm10 10l.94 2.06.94-2.06 2.06-.94-2.06-.94-.94-2.06-.94 2.06-2.06.94z\"/><path d=\"M17.41 7.96l-1.37-1.37c-.4-.4-.92-.59-1.43-.59-.52 0-1.04.2-1.43.59L10.3 9.45l-7.72 7.72c-.78.78-.78 2.05 0 2.83L4 21.41c.39.39.9.59 1.41.59.51 0 1.02-.2 1.41-.59l7.78-7.78 2.81-2.81c.8-.78.8-2.07 0-2.86zM5.41 20L4 18.59l7.72-7.72 1.47 1.35L5.41 20z\"/>\n",
              "  </svg>\n",
              "      </button>\n",
              "      \n",
              "  <style>\n",
              "    .colab-df-container {\n",
              "      display:flex;\n",
              "      flex-wrap:wrap;\n",
              "      gap: 12px;\n",
              "    }\n",
              "\n",
              "    .colab-df-convert {\n",
              "      background-color: #E8F0FE;\n",
              "      border: none;\n",
              "      border-radius: 50%;\n",
              "      cursor: pointer;\n",
              "      display: none;\n",
              "      fill: #1967D2;\n",
              "      height: 32px;\n",
              "      padding: 0 0 0 0;\n",
              "      width: 32px;\n",
              "    }\n",
              "\n",
              "    .colab-df-convert:hover {\n",
              "      background-color: #E2EBFA;\n",
              "      box-shadow: 0px 1px 2px rgba(60, 64, 67, 0.3), 0px 1px 3px 1px rgba(60, 64, 67, 0.15);\n",
              "      fill: #174EA6;\n",
              "    }\n",
              "\n",
              "    [theme=dark] .colab-df-convert {\n",
              "      background-color: #3B4455;\n",
              "      fill: #D2E3FC;\n",
              "    }\n",
              "\n",
              "    [theme=dark] .colab-df-convert:hover {\n",
              "      background-color: #434B5C;\n",
              "      box-shadow: 0px 1px 3px 1px rgba(0, 0, 0, 0.15);\n",
              "      filter: drop-shadow(0px 1px 2px rgba(0, 0, 0, 0.3));\n",
              "      fill: #FFFFFF;\n",
              "    }\n",
              "  </style>\n",
              "\n",
              "      <script>\n",
              "        const buttonEl =\n",
              "          document.querySelector('#df-3cbef01f-d80a-4ee0-8202-adc0baa642b6 button.colab-df-convert');\n",
              "        buttonEl.style.display =\n",
              "          google.colab.kernel.accessAllowed ? 'block' : 'none';\n",
              "\n",
              "        async function convertToInteractive(key) {\n",
              "          const element = document.querySelector('#df-3cbef01f-d80a-4ee0-8202-adc0baa642b6');\n",
              "          const dataTable =\n",
              "            await google.colab.kernel.invokeFunction('convertToInteractive',\n",
              "                                                     [key], {});\n",
              "          if (!dataTable) return;\n",
              "\n",
              "          const docLinkHtml = 'Like what you see? Visit the ' +\n",
              "            '<a target=\"_blank\" href=https://colab.research.google.com/notebooks/data_table.ipynb>data table notebook</a>'\n",
              "            + ' to learn more about interactive tables.';\n",
              "          element.innerHTML = '';\n",
              "          dataTable['output_type'] = 'display_data';\n",
              "          await google.colab.output.renderOutput(dataTable, element);\n",
              "          const docLink = document.createElement('div');\n",
              "          docLink.innerHTML = docLinkHtml;\n",
              "          element.appendChild(docLink);\n",
              "        }\n",
              "      </script>\n",
              "    </div>\n",
              "  </div>\n",
              "  "
            ]
          },
          "metadata": {},
          "execution_count": 24
        }
      ],
      "source": [
        "# your code goes here\n",
        "df.corr()"
      ]
    },
    {
      "cell_type": "code",
      "source": [
        "corr = df.corr()\n",
        "plt.figure(figsize=(8,6))\n",
        "sns.heatmap(corr, cmap=cmap, annot=True, center=0, vmin=-1, square=True, linewidths=.5)\n",
        "plt.tight_layout()\n",
        "plt.show()"
      ],
      "metadata": {
        "colab": {
          "base_uri": "https://localhost:8080/",
          "height": 441
        },
        "id": "NTo1o99ARF0F",
        "outputId": "7db90159-dd4f-46dc-a69f-7eabd79187b7"
      },
      "execution_count": 27,
      "outputs": [
        {
          "output_type": "display_data",
          "data": {
            "text/plain": [
              "<Figure size 576x432 with 2 Axes>"
            ],
            "image/png": "[encoded data removed]"
          },
          "metadata": {
            "needs_background": "light"
          }
        }
      ]
    },
    {
      "cell_type": "markdown",
      "metadata": {
        "id": "4LhDh222AN_v"
      },
      "source": [
        "## Authors\n"
      ]
    },
    {
      "cell_type": "markdown",
      "metadata": {
        "id": "1XhgmQusAN_v"
      },
      "source": [
        "Ramesh Sannareddy\n"
      ]
    },
    {
      "cell_type": "markdown",
      "metadata": {
        "id": "OfDY4hebAN_w"
      },
      "source": [
        "### Other Contributors\n"
      ]
    },
    {
      "cell_type": "markdown",
      "metadata": {
        "id": "YTbkssngAN_w"
      },
      "source": [
        "Rav Ahuja\n"
      ]
    },
    {
      "cell_type": "markdown",
      "metadata": {
        "id": "e7Z2NZ0gAN_w"
      },
      "source": [
        "## Change Log\n"
      ]
    },
    {
      "cell_type": "markdown",
      "metadata": {
        "id": "P-lk4poFAN_w"
      },
      "source": [
        "| Date (YYYY-MM-DD) | Version | Changed By        | Change Description                 |\n",
        "| ----------------- | ------- | ----------------- | ---------------------------------- |\n",
        "| 2020-10-17        | 0.1     | Ramesh Sannareddy | Created initial version of the lab |\n"
      ]
    },
    {
      "cell_type": "markdown",
      "metadata": {
        "id": "TUPiYGGOAN_x"
      },
      "source": [
        "Copyright © 2020 IBM Corporation. This notebook and its source code are released under the terms of the [MIT License](https://cognitiveclass.ai/mit-license?utm_medium=Exinfluencer&utm_source=Exinfluencer&utm_content=000026UJ&utm_term=10006555&utm_id=NA-SkillsNetwork-Channel-SkillsNetworkCoursesIBMDA0321ENSkillsNetwork21426264-2022-01-01&cm_mmc=Email_Newsletter-\\_-Developer_Ed%2BTech-\\_-WW_WW-\\_-SkillsNetwork-Courses-IBM-DA0321EN-SkillsNetwork-21426264&cm_mmca1=000026UJ&cm_mmca2=10006555&cm_mmca3=M12345678&cvosrc=email.Newsletter.M12345678&cvo_campaign=000026UJ).\n"
      ]
    }
  ],
  "metadata": {
    "kernelspec": {
      "display_name": "Python 3",
      "language": "python",
      "name": "python3"
    },
    "language_info": {
      "codemirror_mode": {
        "name": "ipython",
        "version": 3
      },
      "file_extension": ".py",
      "mimetype": "text/x-python",
      "name": "python",
      "nbconvert_exporter": "python",
      "pygments_lexer": "ipython3",
      "version": "3.7.6"
    },
    "colab": {
      "provenance": []
    }
  },
  "nbformat": 4,
  "nbformat_minor": 0
}